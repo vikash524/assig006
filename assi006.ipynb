{
 "cells": [
  {
   "cell_type": "code",
   "execution_count": 2,
   "id": "dc1ef733-b5e4-417e-b45b-7c1a3bd9177e",
   "metadata": {},
   "outputs": [
    {
     "name": "stdout",
     "output_type": "stream",
     "text": [
      "Password 1: Invalid Password\n",
      "Password 2: Valid Password\n",
      "['apple']\n",
      "['123', '456']\n",
      "[('orange', 80), ('mango', 99), ('grapes', 1000)]\n",
      "[1, 4, 9, 16, 25, 36, 49, 64, 81, 100]\n",
      "[1.0, 1.4142135623730951, 1.7320508075688772, 2.0, 2.23606797749979, 2.449489742783178, 2.6457513110645907, 2.8284271247461903, 3.0, 3.1622776601683795]\n",
      "[2, 4, 6, 8, 10]\n",
      "[1, 3, 5, 7, 9]\n",
      "Positive Integers: [1, 2, 3, 4, 5, 6]\n",
      "Negative Integers: [-1, -2, -3, -4, -5]\n"
     ]
    }
   ],
   "source": [
    "#Q1. You are writing code for a company. The requirement of the company is that you create a python function that will check whether the password entered by the user is correct or not.\n",
    "\n",
    "\n",
    "def check_password(password):\n",
    "    # Rule 1: At least two uppercase letters and at least two lowercase letters\n",
    "    uppercase_count = sum(1 for char in password if char.isupper())\n",
    "    lowercase_count = sum(1 for char in password if char.islower())\n",
    "    # Rule 2: At least a number and three special characters\n",
    "    digit_count = sum(1 for char in password if char.isdigit())\n",
    "    special_count = sum(1 for char in password if not char.isalnum())\n",
    "    # Rule 3: Length of the password should be 10 characters long\n",
    "    if (uppercase_count >= 2 and lowercase_count >= 2 and\n",
    "        digit_count >= 1 and special_count >= 3 and len(password) == 10):\n",
    "        return \"Valid Password\"\n",
    "    else:\n",
    "        return \"Invalid Password\"\n",
    "\n",
    "# Test the function\n",
    "password1 = \"Abc@123!@#\"\n",
    "password2 = \"abCD123#$%\"\n",
    "print(\"Password 1:\", check_password(password1))\n",
    "print(\"Password 2:\", check_password(password2))\n",
    "#Q2. Solve the below-given questions using at least one of the following: Lambda function, Filter function, Map function, List Comprehension.\n",
    "\n",
    "\n",
    "# Check if the string starts with a particular letter\n",
    "strings = [\"apple\", \"banana\", \"cherry\", \"orange\"]\n",
    "starts_with_a = filter(lambda x: x.startswith('a'), strings)\n",
    "print(list(starts_with_a))\n",
    "\n",
    "# Check if the string is numeric\n",
    "strings = [\"123\", \"abc\", \"456\", \"def\"]\n",
    "is_numeric = filter(lambda x: x.isnumeric(), strings)\n",
    "print(list(is_numeric))\n",
    "\n",
    "# Sort a list of tuples having fruit names and their quantity\n",
    "fruits = [(\"mango\", 99), (\"orange\", 80), (\"grapes\", 1000)]\n",
    "sorted_fruits = sorted(fruits, key=lambda x: x[1])\n",
    "print(sorted_fruits)\n",
    "\n",
    "# Find the squares of numbers from 1 to 10\n",
    "squares = [x ** 2 for x in range(1, 11)]\n",
    "print(squares)\n",
    "\n",
    "# Find the cube root of numbers from 1 to 10\n",
    "import math\n",
    "cube_roots = [math.sqrt(x) for x in range(1, 11)]\n",
    "print(cube_roots)\n",
    "\n",
    "# Check if a given number is even\n",
    "numbers = [1, 2, 3, 4, 5, 6, 7, 8, 9, 10]\n",
    "even_numbers = filter(lambda x: x % 2 == 0, numbers)\n",
    "print(list(even_numbers))\n",
    "\n",
    "# Filter odd numbers from the given list\n",
    "odd_numbers = [x for x in numbers if x % 2 != 0]\n",
    "print(odd_numbers)\n",
    "\n",
    "# Sort a list of integers into positive and negative integers lists\n",
    "integers = [1, 2, 3, 4, 5, 6, -1, -2, -3, -4, -5, 0]\n",
    "positive_integers = [x for x in integers if x > 0]\n",
    "negative_integers = [x for x in integers if x < 0]\n",
    "print(\"Positive Integers:\", positive_integers)\n",
    "print(\"Negative Integers:\", negative_integers)"
   ]
  },
  {
   "cell_type": "code",
   "execution_count": null,
   "id": "996e6659-96a8-4d38-9b81-241cc3351830",
   "metadata": {},
   "outputs": [],
   "source": []
  }
 ],
 "metadata": {
  "kernelspec": {
   "display_name": "Python 3 (ipykernel)",
   "language": "python",
   "name": "python3"
  },
  "language_info": {
   "codemirror_mode": {
    "name": "ipython",
    "version": 3
   },
   "file_extension": ".py",
   "mimetype": "text/x-python",
   "name": "python",
   "nbconvert_exporter": "python",
   "pygments_lexer": "ipython3",
   "version": "3.10.8"
  }
 },
 "nbformat": 4,
 "nbformat_minor": 5
}
